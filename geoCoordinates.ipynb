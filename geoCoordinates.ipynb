{
 "cells": [
  {
   "cell_type": "code",
   "execution_count": 1,
   "id": "403aea7c",
   "metadata": {},
   "outputs": [],
   "source": [
    "from pymongo import MongoClient\n",
    "import pandas as pd\n",
    "import numpy as np\n",
    "import json\n",
    "from pathlib import Path\n",
    "from pprint import pprint\n",
    "\n",
    "# Impor the OpenWeatherMap API key\n",
    "from api_keys import weather_api_key"
   ]
  },
  {
   "cell_type": "code",
   "execution_count": 2,
   "id": "a59e9288",
   "metadata": {},
   "outputs": [],
   "source": [
    "# Create an instance of MongoClient\n",
    "mongo = MongoClient(port=27017)"
   ]
  },
  {
   "cell_type": "code",
   "execution_count": null,
   "id": "31b93620",
   "metadata": {},
   "outputs": [],
   "source": [
    "# confirm that our new database was created\n",
    "print(mongo.list_database_names())"
   ]
  },
  {
   "cell_type": "code",
   "execution_count": null,
   "id": "6adf0369",
   "metadata": {},
   "outputs": [],
   "source": [
    "df = pd.read_json(\"Shark_AttacksDB.Events.json\")\n",
    "#simple_df = df[[\"Case Number\", \"Location\"]]\n",
    "#simple_df\n",
    "df"
   ]
  },
  {
   "cell_type": "code",
   "execution_count": null,
   "id": "60b39de4",
   "metadata": {},
   "outputs": [],
   "source": [
    "#for row in df.index:\n",
    "#    print(df[\"Year\"][row])\n"
   ]
  },
  {
   "cell_type": "code",
   "execution_count": null,
   "id": "c4c45695",
   "metadata": {},
   "outputs": [],
   "source": [
    "# Set the API base URL\n",
    "url = \"http://api.openweathermap.org/data/2.5/weather?\"\n",
    "\n",
    "# Define an empty list to fetch the weather data for each city\n",
    "geoCoordinates = []\n",
    "\n",
    "# Print to logger\n",
    "print(\"Beginning Data Retrieval     \")\n",
    "print(\"-----------------------------\")\n",
    "\n",
    "# Loop through all the cities in our list to fetch weather data\n",
    "for row in df.index:\n",
    "    location = df[\"Location\"][row]\n",
    "    country = df[\"Country\"][row]\n",
    "\n",
    "    # Create endpoint URL with each city\n",
    "    geo_url = f\"{url}appid={weather_api_key}&units=metric&q={place}\"\n",
    "    \n",
    "    # Log the url, record, and set numbers\n",
    "    print(f\"Processing Record %s of Set {location}\")\n",
    "\n",
    "    # Run an API request for each of the cities\n",
    "    try:\n",
    "\n",
    "        # Parse out latitude, longitude, max temp, humidity, cloudiness, wind speed, country, and date\n",
    "        #city_weather = requests.get(city_url).json()['weather']\n",
    "        city_lat = requests.get(geo_url).json()['coord']['lat']\n",
    "        city_lng = requests.get(geo_url).json()['coord']['lon']\n",
    "\n",
    "        # Append the City information into city_data list\n",
    "        geoCoordinates.append({\"Case Number\": df[\"Case Number\"][row],\n",
    "                          \"Date\": df[\"Date\"][row],\n",
    "                          \"Year\": str(df[\"Year\"][row]),\n",
    "                          \"Country\": df[\"Country\"][row],\n",
    "                          \"Type\": df[\"Type\"][row],\n",
    "                          \"Location\": df[\"Location\"][row],\n",
    "                          \"Activity\": df[\"Activity\"][row],\n",
    "                          \"Injury\": df[\"Injury\"][row],\n",
    "                          \"Fatal\": df[\"Fatal (Y/N)\"][row],\n",
    "                          \"Link\": df[\"href formula\"][row],\n",
    "                          \"Lat\": city_lat, \n",
    "                          \"Lng\": city_lng})\n",
    "\n",
    "    # If an error is experienced, skip the city\n",
    "    except:\n",
    "        print(\"City not found. Skipping...\")\n",
    "        pass\n",
    "              \n",
    "# Indicate that Data Loading is complete \n",
    "print(\"-----------------------------\")\n",
    "print(\"Data Retrieval Complete      \")\n",
    "print(\"-----------------------------\")"
   ]
  },
  {
   "cell_type": "code",
   "execution_count": null,
   "id": "04a51800",
   "metadata": {},
   "outputs": [],
   "source": [
    "pprint(geoCoordinates)"
   ]
  },
  {
   "cell_type": "code",
   "execution_count": null,
   "id": "9a765412",
   "metadata": {},
   "outputs": [],
   "source": [
    "with open(\"coordinates.json\", \"w\") as outfile:\n",
    "    json.dump(geoCoordinates, outfile)"
   ]
  },
  {
   "cell_type": "code",
   "execution_count": null,
   "id": "bcfd7c74",
   "metadata": {},
   "outputs": [],
   "source": [
    "#geoCoordinates.to_json(\"location.json\")\n",
    "geoDB = pd.DataFrame(geoCoordinates)\n",
    "geoDB.to_csv(\"location.csv\")"
   ]
  },
  {
   "cell_type": "code",
   "execution_count": null,
   "id": "a3a550ce",
   "metadata": {},
   "outputs": [],
   "source": []
  }
 ],
 "metadata": {
  "kernelspec": {
   "display_name": "Python 3 (ipykernel)",
   "language": "python",
   "name": "python3"
  },
  "language_info": {
   "codemirror_mode": {
    "name": "ipython",
    "version": 3
   },
   "file_extension": ".py",
   "mimetype": "text/x-python",
   "name": "python",
   "nbconvert_exporter": "python",
   "pygments_lexer": "ipython3",
   "version": "3.9.13"
  }
 },
 "nbformat": 4,
 "nbformat_minor": 5
}
