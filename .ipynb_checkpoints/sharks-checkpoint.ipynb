{
 "cells": [
  {
   "cell_type": "markdown",
   "id": "6607ba1a",
   "metadata": {},
   "source": [
    "# Sharks "
   ]
  },
  {
   "cell_type": "code",
   "execution_count": 13,
   "id": "1fce4f22",
   "metadata": {},
   "outputs": [],
   "source": [
    "from pymongo import MongoClient\n",
    "from pprint import pprint"
   ]
  },
  {
   "cell_type": "code",
   "execution_count": 2,
   "id": "9dc8826d",
   "metadata": {},
   "outputs": [],
   "source": [
    "# Create an instance of MongoClient\n",
    "mongo = MongoClient(port=27017)"
   ]
  },
  {
   "cell_type": "code",
   "execution_count": 3,
   "id": "60ebdfc9",
   "metadata": {},
   "outputs": [
    {
     "name": "stdout",
     "output_type": "stream",
     "text": [
      "['GardenDB', 'Shark_AttacksDB', 'admin', 'classDB', 'config', 'epa', 'local', 'met', 'petsitly_marketing', 'uk_food']\n"
     ]
    }
   ],
   "source": [
    "# confirm that our new database was created\n",
    "print(mongo.list_database_names())"
   ]
  },
  {
   "cell_type": "code",
   "execution_count": 4,
   "id": "3cab0c81",
   "metadata": {},
   "outputs": [],
   "source": [
    "# assign the database to a variable name\n",
    "db = mongo['Shark_AttacksDB']"
   ]
  },
  {
   "cell_type": "code",
   "execution_count": 9,
   "id": "3f57b567",
   "metadata": {},
   "outputs": [
    {
     "name": "stdout",
     "output_type": "stream",
     "text": [
      "['Events']\n"
     ]
    }
   ],
   "source": [
    "# review the collections in our new database\n",
    "print(db.list_collection_names())"
   ]
  },
  {
   "cell_type": "code",
   "execution_count": 14,
   "id": "6360d848",
   "metadata": {},
   "outputs": [
    {
     "name": "stdout",
     "output_type": "stream",
     "text": [
      "{'Activity': 'Paddling',\n",
      " 'Age': 57,\n",
      " 'Area': 'California',\n",
      " 'Case Number': '2018.06.25',\n",
      " 'Country': 'USA',\n",
      " 'Date': '25-Jun-18',\n",
      " 'Fatal (Y/N)': 'N',\n",
      " 'Injury': 'No injury to occupant, outrigger canoe and paddle damaged',\n",
      " 'Investigator or Source': 'R. Collier, GSAF',\n",
      " 'Location': 'Oceanside, San Diego County',\n",
      " 'Name': 'Julie Wolfe',\n",
      " 'Sex ': 'F',\n",
      " 'Species ': 'White shark',\n",
      " 'Time': '18h00',\n",
      " 'Type': 'Boating',\n",
      " 'Year': 2018,\n",
      " '_id': ObjectId('64b9d3f0cd4dab5c54d0e584'),\n",
      " 'href': 'http://sharkattackfile.net/spreadsheets/pdf_directory/2018.06.25-Wolfe.pdf',\n",
      " 'href formula': 'http://sharkattackfile.net/spreadsheets/pdf_directory/2018.06.25-Wolfe.pdf',\n",
      " 'original order': 6303,\n",
      " 'pdf': '2018.06.25-Wolfe.pdf'}\n"
     ]
    }
   ],
   "source": [
    "# review a document in the Events collection\n",
    "pprint(db.Events.find_one())"
   ]
  },
  {
   "cell_type": "code",
   "execution_count": 15,
   "id": "c6d8a4fd",
   "metadata": {},
   "outputs": [],
   "source": [
    "# assign the collection to a variable\n",
    "events = db['Events']"
   ]
  },
  {
   "cell_type": "code",
   "execution_count": 17,
   "id": "e6f7a0ee",
   "metadata": {},
   "outputs": [
    {
     "name": "stdout",
     "output_type": "stream",
     "text": [
      "[{'Activity': 'Fishing',\n",
      "  'Area': 'Western Australia',\n",
      "  'Case Number': '2011.01.03',\n",
      "  'Country': 'AUSTRALIA',\n",
      "  'Date': '3-Jan-11',\n",
      "  'Fatal (Y/N)': 'N',\n",
      "  'Injury': 'No injury, shark nudged boat and bit propeller',\n",
      "  'Investigator or Source': 'S. Gordon, Sky News, 1/4/2011',\n",
      "  'Location': 'Busselton',\n",
      "  'Name': 'A \\'tinnie\". Occupants :Paul Sweeny, Paul Nieuwkerdk, John and Mark '\n",
      "          'Kik ',\n",
      "  'Species ': 'White shark',\n",
      "  'Time': '12h00',\n",
      "  'Type': 'Boat',\n",
      "  'Year': 2011,\n",
      "  '_id': ObjectId('64b9d3f0cd4dab5c54d0e940'),\n",
      "  'href': 'http://sharkattackfile.net/spreadsheets/pdf_directory/2011.01.03-BusseltonBoat.pdf',\n",
      "  'href formula': 'http://sharkattackfile.net/spreadsheets/pdf_directory/2011.01.03-BusseltonBoat.pdf',\n",
      "  'original order': 5347,\n",
      "  'pdf': '2011.01.03-BusseltonBoat.pdf'},\n",
      " {'Activity': 'Attempting to fix motor',\n",
      "  'Age': 37,\n",
      "  'Area': 'Quintana Roo',\n",
      "  'Case Number': '2011.01.12.R',\n",
      "  'Country': 'MEXICO',\n",
      "  'Date': 'Reported 12-Jan 2011',\n",
      "  'Fatal (Y/N)': 'N',\n",
      "  'Injury': 'Bitten on leg and groin',\n",
      "  'Investigator or Source': 'Sharksurvivors.com',\n",
      "  'Location': 'Xcalak ',\n",
      "  'Name': 'Juan Miguel Infante Ramírez',\n",
      "  'Sex ': 'M',\n",
      "  'Type': 'Unprovoked',\n",
      "  'Year': 2011,\n",
      "  '_id': ObjectId('64b9d3f0cd4dab5c54d0e93f'),\n",
      "  'href': 'http://sharkattackfile.net/spreadsheets/pdf_directory/2011.01.12.R-Infante.pdf',\n",
      "  'href formula': 'http://sharkattackfile.net/spreadsheets/pdf_directory/2011.01.12.R-Infante.pdf',\n",
      "  'original order': 5348,\n",
      "  'pdf': '2011.01.12.R-Infante.pdf'},\n",
      " {'Activity': 'Surfing',\n",
      "  'Age': 16,\n",
      "  'Area': 'Eastern Cape Province',\n",
      "  'Case Number': '2011.01.15',\n",
      "  'Country': 'SOUTH AFRICA',\n",
      "  'Date': '15-Jan-11',\n",
      "  'Fatal (Y/N)': 'Y',\n",
      "  'Injury': 'FATAL',\n",
      "  'Investigator or Source': 'The Mercury, 1/15/211',\n",
      "  'Location': \"Second Beach, Port St. John's\",\n",
      "  'Name': 'Zama Ndamase',\n",
      "  'Sex ': 'M',\n",
      "  'Time': '12h30',\n",
      "  'Type': 'Unprovoked',\n",
      "  'Year': 2011,\n",
      "  '_id': ObjectId('64b9d3f0cd4dab5c54d0e93e'),\n",
      "  'href': 'http://sharkattackfile.net/spreadsheets/pdf_directory/2011.01.15-Ndamase.pdf',\n",
      "  'href formula': 'http://sharkattackfile.net/spreadsheets/pdf_directory/2011.01.15-Ndamase.pdf',\n",
      "  'original order': 5349,\n",
      "  'pdf': '2011.01.15-Ndamase.pdf'},\n",
      " {'Activity': 'Swimming',\n",
      "  'Age': 7,\n",
      "  'Area': 'New South Wales',\n",
      "  'Case Number': '2011.01.20',\n",
      "  'Country': 'AUSTRALIA',\n",
      "  'Date': '20-Jan-11',\n",
      "  'Injury': 'Lacerations to both legs',\n",
      "  'Investigator or Source': 'L. Brodnik, Tweed News, 1/22/2011',\n",
      "  'Location': 'Cudgen Creek ',\n",
      "  'Name': 'Mia Merlini',\n",
      "  'Sex ': 'F',\n",
      "  'Species ': 'Shark involvement not confirmed',\n",
      "  'Time': '17h00',\n",
      "  'Type': 'Invalid',\n",
      "  'Year': 2011,\n",
      "  '_id': ObjectId('64b9d3f0cd4dab5c54d0e93d'),\n",
      "  'href': 'http://sharkattackfile.net/spreadsheets/pdf_directory/2011.01.20-Merlini.pdf',\n",
      "  'href formula': 'http://sharkattackfile.net/spreadsheets/pdf_directory/2011.01.20-Merlini.pdf',\n",
      "  'original order': 5350,\n",
      "  'pdf': '2011.01.20-Merlini.pdf'},\n",
      " {'Activity': 'Scuba diving',\n",
      "  'Age': 55,\n",
      "  'Area': 'West End',\n",
      "  'Case Number': '2011.01.26',\n",
      "  'Country': 'BAHAMAS',\n",
      "  'Date': '26-Jan-11',\n",
      "  'Fatal (Y/N)': 'N',\n",
      "  'Injury': 'Arm bitten ',\n",
      "  'Investigator or Source': 'J. Abernethy',\n",
      "  'Location': 'Tiger Beach',\n",
      "  'Name': 'Jim Abernethy',\n",
      "  'Sex ': 'M',\n",
      "  'Species ': 'Caribbean reef shark',\n",
      "  'Time': '15h00',\n",
      "  'Type': 'Unprovoked',\n",
      "  'Year': 2011,\n",
      "  '_id': ObjectId('64b9d3f0cd4dab5c54d0e93c'),\n",
      "  'href': 'http://sharkattackfile.net/spreadsheets/pdf_directory/2011.01.26-Abernethy.pdf',\n",
      "  'href formula': 'http://sharkattackfile.net/spreadsheets/pdf_directory/2011.01.26-Abernethy.pdf',\n",
      "  'original order': 5351,\n",
      "  'pdf': '2011.01.26-Abernethy.pdf'}]\n"
     ]
    }
   ],
   "source": [
    "# Query all the events prior to 2010\n",
    "query = {'Year': {'$gt': 2010}}\n",
    "\n",
    "# sort in ascending order by events\n",
    "sort = [('Case Number', 1)]\n",
    "\n",
    "# limit the results to the first 5\n",
    "limit = 5\n",
    "\n",
    "# Pretty print the results\n",
    "pprint(list(events.find(query).sort(sort).limit(limit)))"
   ]
  },
  {
   "cell_type": "code",
   "execution_count": 18,
   "id": "e526b7c3",
   "metadata": {},
   "outputs": [
    {
     "data": {
      "text/plain": [
       "<pymongo.results.DeleteResult at 0x2a6a4c31180>"
      ]
     },
     "execution_count": 18,
     "metadata": {},
     "output_type": "execute_result"
    }
   ],
   "source": [
    "# Delete cases prior to 2010\n",
    "events.delete_many({'Year': {'$gt': 2010}})"
   ]
  },
  {
   "cell_type": "code",
   "execution_count": 31,
   "id": "f36376ba",
   "metadata": {},
   "outputs": [
    {
     "ename": "SyntaxError",
     "evalue": "invalid syntax (1053127499.py, line 3)",
     "output_type": "error",
     "traceback": [
      "\u001b[1;36m  Cell \u001b[1;32mIn[31], line 3\u001b[1;36m\u001b[0m\n\u001b[1;33m    { $unset: { Name: \"\" } }\u001b[0m\n\u001b[1;37m      ^\u001b[0m\n\u001b[1;31mSyntaxError\u001b[0m\u001b[1;31m:\u001b[0m invalid syntax\n"
     ]
    }
   ],
   "source": [
    "db.Events.updateMany(\n",
    "   { },\n",
    "   { $unset: { Name: \"\" } }\n",
    ")"
   ]
  },
  {
   "cell_type": "code",
   "execution_count": 25,
   "id": "b11e18fd",
   "metadata": {
    "scrolled": true
   },
   "outputs": [
    {
     "ename": "SyntaxError",
     "evalue": "invalid syntax (3565941236.py, line 3)",
     "output_type": "error",
     "traceback": [
      "\u001b[1;36m  Cell \u001b[1;32mIn[25], line 3\u001b[1;36m\u001b[0m\n\u001b[1;33m    <({'Name':})>,\u001b[0m\n\u001b[1;37m    ^\u001b[0m\n\u001b[1;31mSyntaxError\u001b[0m\u001b[1;31m:\u001b[0m invalid syntax\n"
     ]
    }
   ],
   "source": [
    "# Delete names\n",
    "events.collection.remove(\n",
    "   <({'Name':})>,\n",
    "   <justOne: False>\n",
    ")"
   ]
  },
  {
   "cell_type": "code",
   "execution_count": null,
   "id": "d0a3e6c4",
   "metadata": {},
   "outputs": [],
   "source": []
  },
  {
   "cell_type": "code",
   "execution_count": 12,
   "id": "9113832a",
   "metadata": {},
   "outputs": [],
   "source": [
    "# Delete cases prior to 2010\n",
    "events.delete_many({'Year': {'$gt': 2010}})"
   ]
  },
  {
   "cell_type": "code",
   "execution_count": 13,
   "id": "2f1a4f4f",
   "metadata": {},
   "outputs": [
    {
     "data": {
      "text/plain": [
       "[]"
      ]
     },
     "execution_count": 13,
     "metadata": {},
     "output_type": "execute_result"
    }
   ],
   "source": [
    "# Check that other documents remain with 'find_one'\n",
    "events.find_one({})"
   ]
  },
  {
   "cell_type": "code",
   "execution_count": null,
   "id": "e1f35bc9",
   "metadata": {},
   "outputs": [],
   "source": []
  }
 ],
 "metadata": {
  "kernelspec": {
   "display_name": "Python 3 (ipykernel)",
   "language": "python",
   "name": "python3"
  },
  "language_info": {
   "codemirror_mode": {
    "name": "ipython",
    "version": 3
   },
   "file_extension": ".py",
   "mimetype": "text/x-python",
   "name": "python",
   "nbconvert_exporter": "python",
   "pygments_lexer": "ipython3",
   "version": "3.10.9"
  }
 },
 "nbformat": 4,
 "nbformat_minor": 5
}
